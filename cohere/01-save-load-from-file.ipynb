{
  "cells": [
    {
      "cell_type": "markdown",
      "metadata": {
        "id": "_RdWhaYDaw1v"
      },
      "source": [
        "[![Open In Colab](https://colab.research.google.com/assets/colab-badge.svg)](https://colab.research.google.com/github/aurelio-labs/semantic-router/blob/main/docs/01-save-load-from-file.ipynb) [![Open nbviewer](https://raw.githubusercontent.com/pinecone-io/examples/master/assets/nbviewer-shield.svg)](https://nbviewer.org/github/aurelio-labs/semantic-router/blob/main/docs/01-save-load-from-file.ipynb)"
      ]
    },
    {
      "cell_type": "markdown",
      "metadata": {
        "id": "_paYFgfGaw1x"
      },
      "source": [
        "# Route Layers from File\n",
        "\n",
        "Here we will show how to save routers to YAML or JSON files, and how to load a route layer from file."
      ]
    },
    {
      "cell_type": "markdown",
      "metadata": {
        "id": "T6a7i8msaw1x"
      },
      "source": [
        "## Getting Started"
      ]
    },
    {
      "cell_type": "markdown",
      "metadata": {
        "id": "OjXGWIAnaw1x"
      },
      "source": [
        "We start by installing the library:"
      ]
    },
    {
      "cell_type": "code",
      "execution_count": null,
      "metadata": {
        "id": "1Aa-77riaw1y"
      },
      "outputs": [],
      "source": [
        "!pip install -U semantic-router"
      ]
    },
    {
      "cell_type": "markdown",
      "metadata": {
        "id": "yWlTlW4_aw1z"
      },
      "source": [
        "## Define Route"
      ]
    },
    {
      "cell_type": "markdown",
      "metadata": {
        "id": "AxiHuom-aw1z"
      },
      "source": [
        "First let's create a list of routes:"
      ]
    },
    {
      "cell_type": "code",
      "execution_count": null,
      "metadata": {
        "id": "hm1rwDgTaw1z"
      },
      "outputs": [],
      "source": [
        "from semantic_router import Route\n",
        "\n",
        "politics = Route(\n",
        "    name=\"politics\",\n",
        "    utterances=[\n",
        "        \"isn't politics the best thing ever\",\n",
        "        \"why don't you tell me about your political opinions\",\n",
        "        \"don't you just love the president\" \"don't you just hate the president\",\n",
        "        \"they're going to destroy this country!\",\n",
        "        \"they will save the country!\",\n",
        "    ],\n",
        ")\n",
        "chitchat = Route(\n",
        "    name=\"chitchat\",\n",
        "    utterances=[\n",
        "        \"how's the weather today?\",\n",
        "        \"how are things going?\",\n",
        "        \"lovely weather today\",\n",
        "        \"the weather is horrendous\",\n",
        "        \"let's go to the chippy\",\n",
        "    ],\n",
        ")\n",
        "\n",
        "routes = [politics, chitchat]"
      ]
    },
    {
      "cell_type": "markdown",
      "metadata": {
        "id": "MSqKS3C9aw10"
      },
      "source": [
        "We define a route layer using these routes and using the Cohere encoder."
      ]
    },
    {
      "cell_type": "code",
      "execution_count": null,
      "metadata": {
        "id": "js3mSJtPaw10"
      },
      "outputs": [],
      "source": [
        "import os\n",
        "from getpass import getpass\n",
        "from semantic_router import RouteLayer\n",
        "from semantic_router.encoders import CohereEncoder\n",
        "\n",
        "# dashboard.cohere.ai\n",
        "os.environ[\"COHERE_API_KEY\"] = os.getenv(\"COHERE_API_KEY\") or getpass(\n",
        "    \"Enter Cohere API Key: \"\n",
        ")\n",
        "\n",
        "encoder = CohereEncoder()\n",
        "\n",
        "rl = RouteLayer(encoder=encoder, routes=routes)"
      ]
    },
    {
      "cell_type": "markdown",
      "metadata": {
        "id": "fNewT20eaw10"
      },
      "source": [
        "## Test Route"
      ]
    },
    {
      "cell_type": "code",
      "execution_count": null,
      "metadata": {
        "id": "rE1QFwoqaw10"
      },
      "outputs": [],
      "source": [
        "rl(\"isn't politics the best thing ever\")"
      ]
    },
    {
      "cell_type": "code",
      "execution_count": null,
      "metadata": {
        "id": "kuA311wZaw11"
      },
      "outputs": [],
      "source": [
        "rl(\"how's the weather today?\")"
      ]
    },
    {
      "cell_type": "markdown",
      "metadata": {
        "id": "miD11ChGaw11"
      },
      "source": [
        "## Save To JSON"
      ]
    },
    {
      "cell_type": "markdown",
      "metadata": {
        "id": "5ogpE4Elaw11"
      },
      "source": [
        "To save our route layer we call the `to_json` method:"
      ]
    },
    {
      "cell_type": "code",
      "execution_count": null,
      "metadata": {
        "id": "YGsOl4Coaw11"
      },
      "outputs": [],
      "source": [
        "rl.to_json(\"layer.json\")"
      ]
    },
    {
      "cell_type": "markdown",
      "metadata": {
        "id": "x6RiP7RCaw11"
      },
      "source": [
        "## Loading from JSON"
      ]
    },
    {
      "cell_type": "markdown",
      "metadata": {
        "id": "FRoFlYZ3aw11"
      },
      "source": [
        "We can view the router file we just saved to see what information is stored."
      ]
    },
    {
      "cell_type": "code",
      "execution_count": 5,
      "metadata": {
        "id": "YEOwmeDYaw11",
        "outputId": "85eab2ef-2093-445a-bf73-c806ff43c1c4",
        "colab": {
          "base_uri": "https://localhost:8080/"
        }
      },
      "outputs": [
        {
          "output_type": "stream",
          "name": "stdout",
          "text": [
            "{'encoder_type': 'cohere', 'encoder_name': 'embed-english-v3.0', 'routes': [{'name': 'politics', 'utterances': [\"isn't politics the best thing ever\", \"why don't you tell me about your political opinions\", \"don't you just love the presidentdon't you just hate the president\", \"they're going to destroy this country!\", 'they will save the country!'], 'description': None, 'function_schemas': None, 'llm': None, 'score_threshold': 0.3}, {'name': 'chitchat', 'utterances': [\"how's the weather today?\", 'how are things going?', 'lovely weather today', 'the weather is horrendous', \"let's go to the chippy\"], 'description': None, 'function_schemas': None, 'llm': None, 'score_threshold': 0.3}]}\n"
          ]
        }
      ],
      "source": [
        "from semantic_router import Route\n",
        "import os\n",
        "from getpass import getpass\n",
        "from semantic_router import RouteLayer\n",
        "from semantic_router.encoders import CohereEncoder\n",
        "import json\n",
        "\n",
        "# Setup Cohere API Key\n",
        "# dashboard.cohere.ai\n",
        "os.environ[\"COHERE_API_KEY\"] = os.getenv(\"COHERE_API_KEY\") or getpass(\n",
        "    \"Enter Cohere API Key: \"\n",
        ")\n",
        "\n",
        "# Create encoder\n",
        "encoder = CohereEncoder()\n",
        "\n",
        "# Open json routes\n",
        "with open(\"layer.json\", \"r\") as f:\n",
        "    layer_json = json.load(f)\n",
        "\n",
        "print(layer_json)"
      ]
    },
    {
      "cell_type": "markdown",
      "metadata": {
        "id": "zqJhVf94aw11"
      },
      "source": [
        "It tells us our encoder type, encoder name, and routes. This is everything we need to initialize a new router. To do so, we use the `from_json` method."
      ]
    },
    {
      "cell_type": "code",
      "execution_count": 6,
      "metadata": {
        "id": "4CGPru75aw11"
      },
      "outputs": [],
      "source": [
        "rl = RouteLayer.from_json(\"layer.json\")"
      ]
    },
    {
      "cell_type": "markdown",
      "metadata": {
        "id": "97NDn8Gcaw12"
      },
      "source": [
        "We can confirm that our layer has been initialized with the expected attributes by viewing the `RouteLayer` object:"
      ]
    },
    {
      "cell_type": "code",
      "execution_count": 7,
      "metadata": {
        "id": "K-yuVazPaw12",
        "outputId": "30afc3ef-3e77-4853-84c3-b396f966b12a",
        "colab": {
          "base_uri": "https://localhost:8080/"
        }
      },
      "outputs": [
        {
          "output_type": "stream",
          "name": "stdout",
          "text": [
            "rl.encoder.type='cohere'\n",
            "rl.encoder.name='embed-english-v3.0'\n",
            "rl.routes=[Route(name='politics', utterances=[\"isn't politics the best thing ever\", \"why don't you tell me about your political opinions\", \"don't you just love the presidentdon't you just hate the president\", \"they're going to destroy this country!\", 'they will save the country!'], description=None, function_schemas=None, llm=None, score_threshold=0.3), Route(name='chitchat', utterances=[\"how's the weather today?\", 'how are things going?', 'lovely weather today', 'the weather is horrendous', \"let's go to the chippy\"], description=None, function_schemas=None, llm=None, score_threshold=0.3)]\n"
          ]
        }
      ],
      "source": [
        "print(\n",
        "    f\"\"\"{rl.encoder.type=}\n",
        "{rl.encoder.name=}\n",
        "{rl.routes=}\"\"\"\n",
        ")"
      ]
    },
    {
      "cell_type": "markdown",
      "metadata": {
        "id": "hHc4LS4-aw12"
      },
      "source": [
        "---"
      ]
    },
    {
      "cell_type": "markdown",
      "metadata": {
        "id": "AiW1agqIaw12"
      },
      "source": [
        "## Test Route Again"
      ]
    },
    {
      "cell_type": "code",
      "execution_count": 8,
      "metadata": {
        "id": "xa4UndNhaw12",
        "outputId": "272b155d-81c6-48c1-f0ac-e4cc07f4a1bb",
        "colab": {
          "base_uri": "https://localhost:8080/"
        }
      },
      "outputs": [
        {
          "output_type": "execute_result",
          "data": {
            "text/plain": [
              "RouteChoice(name='politics', function_call=None, similarity_score=None)"
            ]
          },
          "metadata": {},
          "execution_count": 8
        }
      ],
      "source": [
        "rl(\"isn't politics the best thing ever\")"
      ]
    },
    {
      "cell_type": "code",
      "execution_count": 9,
      "metadata": {
        "id": "RLgf1TRHaw12",
        "outputId": "f94661b2-0a40-4eb6-b9b1-31c7b7973816",
        "colab": {
          "base_uri": "https://localhost:8080/"
        }
      },
      "outputs": [
        {
          "output_type": "execute_result",
          "data": {
            "text/plain": [
              "RouteChoice(name='chitchat', function_call=None, similarity_score=None)"
            ]
          },
          "metadata": {},
          "execution_count": 9
        }
      ],
      "source": [
        "rl(\"how's the weather today?\")"
      ]
    }
  ],
  "metadata": {
    "kernelspec": {
      "display_name": "Python 3",
      "name": "python3"
    },
    "language_info": {
      "codemirror_mode": {
        "name": "ipython",
        "version": 3
      },
      "file_extension": ".py",
      "mimetype": "text/x-python",
      "name": "python",
      "nbconvert_exporter": "python",
      "pygments_lexer": "ipython3",
      "version": "3.11.4"
    },
    "colab": {
      "provenance": [],
      "gpuType": "T4"
    },
    "accelerator": "GPU"
  },
  "nbformat": 4,
  "nbformat_minor": 0
}